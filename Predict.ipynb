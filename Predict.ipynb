{
 "cells": [
  {
   "cell_type": "code",
   "execution_count": 107,
   "metadata": {},
   "outputs": [],
   "source": [
    "import numpy as np\n",
    "import pandas as pd\n",
    "from sklearn.model_selection import train_test_split\n",
    "\n",
    "# loading the preprocessed data\n",
    "train_data = pd.read_csv(\"preprocessed_train.csv\")\n",
    "test_data = pd.read_csv(\"preprocessed_test.csv\")\n",
    "\n",
    "# separating features and target of the dataset\n",
    "y = np.log(train_data.SalePrice)\n",
    "X = train_data.drop(['SalePrice'], axis=1)\n",
    "\n",
    "# splitting the train dataset\n",
    "X_train, X_test, y_train, y_test = train_test_split(X, y, random_state=6, test_size=.25)\n",
    "\n",
    "# saving error results\n",
    "RMSE_results = {}"
   ]
  },
  {
   "cell_type": "code",
   "execution_count": 108,
   "metadata": {},
   "outputs": [
    {
     "name": "stdout",
     "output_type": "stream",
     "text": [
      "Ridge RMSE = 0.010104474467718587\n"
     ]
    }
   ],
   "source": [
    "from sklearn.metrics import mean_squared_error\n",
    "from sklearn.pipeline import make_pipeline\n",
    "from sklearn.preprocessing import RobustScaler\n",
    "from sklearn.linear_model import RidgeCV\n",
    "\n",
    "# Ridge\n",
    "ridge = make_pipeline(RobustScaler(), RidgeCV())\n",
    "ridge = ridge.fit(X_train, y_train)\n",
    "predictions = ridge.predict(X_test)\n",
    "RMSE_results['Ridge'] = mean_squared_error(y_test, predictions)\n",
    "print('Ridge RMSE =', RMSE_results['Ridge'])"
   ]
  },
  {
   "cell_type": "code",
   "execution_count": 109,
   "metadata": {},
   "outputs": [
    {
     "name": "stdout",
     "output_type": "stream",
     "text": [
      "Elastic Net RMSE = 0.011933376791434405\n"
     ]
    }
   ],
   "source": [
    "from sklearn.linear_model import ElasticNetCV\n",
    "\n",
    "# Elastic Net\n",
    "en = make_pipeline(RobustScaler(), ElasticNetCV(cv=3))\n",
    "en = en.fit(X_train, y_train)\n",
    "predictions = en.predict(X_test)\n",
    "RMSE_results['EN'] = mean_squared_error(y_test, predictions)\n",
    "print('Elastic Net RMSE =', RMSE_results['EN'])"
   ]
  },
  {
   "cell_type": "code",
   "execution_count": 110,
   "metadata": {},
   "outputs": [
    {
     "name": "stdout",
     "output_type": "stream",
     "text": [
      "SVR RMSE = 0.023146474392717636\n"
     ]
    }
   ],
   "source": [
    "from sklearn.svm import SVR\n",
    "\n",
    "# SVR\n",
    "svr = make_pipeline(RobustScaler(), SVR(C=40, epsilon=0.008, gamma=0.0001))\n",
    "svr = svr.fit(X_train, y_train)\n",
    "predictions = svr.predict(X_test)\n",
    "RMSE_results['SVR'] = mean_squared_error(y_test, predictions)\n",
    "print('SVR RMSE =', RMSE_results['SVR'])"
   ]
  },
  {
   "cell_type": "code",
   "execution_count": 111,
   "metadata": {},
   "outputs": [
    {
     "name": "stdout",
     "output_type": "stream",
     "text": [
      "Lasso RMSE = 0.011926535364213234\n"
     ]
    }
   ],
   "source": [
    "from sklearn.linear_model import LassoCV\n",
    "\n",
    "# Lasso\n",
    "lasso = make_pipeline(RobustScaler(), LassoCV(cv=3))\n",
    "lasso = lasso.fit(X_train, y_train)\n",
    "predictions = lasso.predict(X_test)\n",
    "RMSE_results['Lasso'] = mean_squared_error(y_test, predictions)\n",
    "print('Lasso RMSE =', RMSE_results['Lasso'])"
   ]
  },
  {
   "cell_type": "code",
   "execution_count": 112,
   "metadata": {},
   "outputs": [
    {
     "name": "stdout",
     "output_type": "stream",
     "text": [
      "Neural Network RMSE = 41.84695616548137\n"
     ]
    }
   ],
   "source": [
    "from sklearn.neural_network import MLPRegressor\n",
    "\n",
    "# Neural Network\n",
    "nn = MLPRegressor(hidden_layer_sizes=(80, 50, 20), max_iter=500)\n",
    "nn = nn.fit(X_train, y_train)\n",
    "predictions = nn.predict(X_test)\n",
    "RMSE_results_NN = mean_squared_error(y_test, predictions)\n",
    "print('Neural Network RMSE =', RMSE_results_NN)"
   ]
  },
  {
   "cell_type": "code",
   "execution_count": 100,
   "metadata": {},
   "outputs": [
    {
     "name": "stdout",
     "output_type": "stream",
     "text": [
      "Random Forests RMSE = 0.018573497453904457\n"
     ]
    }
   ],
   "source": [
    "from sklearn.ensemble import RandomForestRegressor\n",
    "\n",
    "# Random Forests\n",
    "rf = RandomForestRegressor(n_estimators=300)\n",
    "rf = rf.fit(X_train, y_train)\n",
    "predictions = rf.predict(X_test)\n",
    "RMSE_results['RF'] = mean_squared_error(y_test, predictions)\n",
    "print('Random Forests RMSE =', RMSE_results['RF'])"
   ]
  },
  {
   "cell_type": "code",
   "execution_count": 113,
   "metadata": {},
   "outputs": [
    {
     "name": "stdout",
     "output_type": "stream",
     "text": [
      "Gradient Boosting Regressor RMSE = 0.010298052784479553\n"
     ]
    }
   ],
   "source": [
    "from sklearn.ensemble import GradientBoostingRegressor\n",
    "\n",
    "# Gradient Boosting Regressor\n",
    "gbr = GradientBoostingRegressor(n_estimators=3000, learning_rate=0.01, max_depth=3, max_features='sqrt',\n",
    "                                min_samples_leaf=15, min_samples_split=10)\n",
    "gbr = gbr.fit(X_train, y_train)\n",
    "predictions = gbr.predict(X_test)\n",
    "RMSE_results['GBR'] = mean_squared_error(y_test, predictions)\n",
    "print('Gradient Boosting Regressor RMSE =', RMSE_results['GBR'])"
   ]
  },
  {
   "cell_type": "code",
   "execution_count": 118,
   "metadata": {},
   "outputs": [
    {
     "name": "stdout",
     "output_type": "stream",
     "text": [
      "Voting Ensemble RMSE = 0.009364903594854122\n"
     ]
    }
   ],
   "source": [
    "from sklearn.ensemble import VotingRegressor\n",
    "\n",
    "# Voting Ensemble\n",
    "ve = VotingRegressor([('ridge', ridge), ('gbr', gbr), ('en', en)])\n",
    "ve = ve.fit(X_train, y_train)\n",
    "predictions = ve.predict(X_test)\n",
    "RMSE_results['Ensemble'] = mean_squared_error(y_test, predictions)\n",
    "print('Voting Ensemble RMSE =', RMSE_results['Ensemble'])"
   ]
  },
  {
   "cell_type": "code",
   "execution_count": 115,
   "metadata": {},
   "outputs": [
    {
     "data": {
      "image/png": "[encoded data removed]",
      "text/plain": [
       "<Figure size 720x360 with 1 Axes>"
      ]
     },
     "metadata": {
      "needs_background": "light"
     },
     "output_type": "display_data"
    }
   ],
   "source": [
    "import pandas as pd\n",
    "import matplotlib.pyplot as plt\n",
    "\n",
    "# evaluation\n",
    "ax = pd.DataFrame(RMSE_results, index=(1,)).plot(kind='bar', figsize=(10, 5))\n",
    "ax.set_ylabel('Root Mean Square Error')\n",
    "ax.set_xlabel('Models')\n",
    "plt.show()"
   ]
  },
  {
   "cell_type": "code",
   "execution_count": 119,
   "metadata": {},
   "outputs": [
    {
     "data": {
      "text/html": [
       "<div>\n",
       "<style scoped>\n",
       "    .dataframe tbody tr th:only-of-type {\n",
       "        vertical-align: middle;\n",
       "    }\n",
       "\n",
       "    .dataframe tbody tr th {\n",
       "        vertical-align: top;\n",
       "    }\n",
       "\n",
       "    .dataframe thead th {\n",
       "        text-align: right;\n",
       "    }\n",
       "</style>\n",
       "<table border=\"1\" class=\"dataframe\">\n",
       "  <thead>\n",
       "    <tr style=\"text-align: right;\">\n",
       "      <th></th>\n",
       "      <th>Id</th>\n",
       "      <th>SalePrice</th>\n",
       "    </tr>\n",
       "  </thead>\n",
       "  <tbody>\n",
       "    <tr>\n",
       "      <th>0</th>\n",
       "      <td>1461</td>\n",
       "      <td>122721.091235</td>\n",
       "    </tr>\n",
       "    <tr>\n",
       "      <th>1</th>\n",
       "      <td>1462</td>\n",
       "      <td>154634.602979</td>\n",
       "    </tr>\n",
       "    <tr>\n",
       "      <th>2</th>\n",
       "      <td>1463</td>\n",
       "      <td>175117.673979</td>\n",
       "    </tr>\n",
       "    <tr>\n",
       "      <th>3</th>\n",
       "      <td>1464</td>\n",
       "      <td>196427.143568</td>\n",
       "    </tr>\n",
       "    <tr>\n",
       "      <th>4</th>\n",
       "      <td>1465</td>\n",
       "      <td>194953.087825</td>\n",
       "    </tr>\n",
       "  </tbody>\n",
       "</table>\n",
       "</div>"
      ],
      "text/plain": [
       "     Id      SalePrice\n",
       "0  1461  122721.091235\n",
       "1  1462  154634.602979\n",
       "2  1463  175117.673979\n",
       "3  1464  196427.143568\n",
       "4  1465  194953.087825"
      ]
     },
     "execution_count": 119,
     "metadata": {},
     "output_type": "execute_result"
    }
   ],
   "source": [
    "# prediction and submitting\n",
    "submission = pd.DataFrame()\n",
    "submission['Id'] = range(1461, 1461 + 1459)\n",
    "test_predictions = ve.predict(test_data)\n",
    "submission['SalePrice'] = np.exp(test_predictions)\n",
    "submission.to_csv('submission.csv', index=False)\n",
    "submission.head()"
   ]
  },
  {
   "cell_type": "code",
   "execution_count": null,
   "metadata": {},
   "outputs": [],
   "source": []
  }
 ],
 "metadata": {
  "kernelspec": {
   "display_name": "Python 3",
   "language": "python",
   "name": "python3"
  },
  "language_info": {
   "codemirror_mode": {
    "name": "ipython",
    "version": 3
   },
   "file_extension": ".py",
   "mimetype": "text/x-python",
   "name": "python",
   "nbconvert_exporter": "python",
   "pygments_lexer": "ipython3",
   "version": "3.7.3"
  }
 },
 "nbformat": 4,
 "nbformat_minor": 2
}
